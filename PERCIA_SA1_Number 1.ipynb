{
 "cells": [
  {
   "cell_type": "markdown",
   "metadata": {},
   "source": [
    "# Summative Assessment 1"
   ]
  },
  {
   "cell_type": "markdown",
   "metadata": {},
   "source": [
    "Number 1"
   ]
  },
  {
   "cell_type": "code",
   "execution_count": 4,
   "metadata": {},
   "outputs": [
    {
     "name": "stdout",
     "output_type": "stream",
     "text": [
      "There are 113783 words in the file.\n"
     ]
    }
   ],
   "source": [
    "#A. Print the total number of words in the file.\n",
    "\n",
    "import urllib.request\n",
    "\n",
    "url = \"https://raw.githubusercontent.com/AllenDowney/ThinkPython2/master/code/words.txt\"\n",
    "with urllib.request.urlopen(url) as response:\n",
    "    words = response.read().decode().splitlines()\n",
    "\n",
    "\n",
    "print(\"There are\", len(words), \"words in the file.\")\n"
   ]
  },
  {
   "cell_type": "code",
   "execution_count": 5,
   "metadata": {},
   "outputs": [
    {
     "name": "stdout",
     "output_type": "stream",
     "text": [
      "The longest words are: ['counterdemonstrations', 'hyperaggressivenesses', 'microminiaturizations']\n"
     ]
    }
   ],
   "source": [
    "#B. Print the longest word in the file.\n",
    "\n",
    "longest_word = \"\"\n",
    "for word in words:\n",
    "    if len(word) > len(longest_word):\n",
    "        longest_word = word\n",
    "\n",
    "longest_words = []\n",
    "for word1 in words:\n",
    "    if len(word1) == len(longest_word):\n",
    "        longest_words.append(word1)\n",
    "        \n",
    "  \n",
    "# Print the longest word\n",
    "\n",
    "countlong = 0\n",
    "for long in longest_words:\n",
    "    countlong+=1\n",
    "\n",
    "if countlong == 1:\n",
    "    print(\"The longest word is:\", longest_words)\n",
    "else:\n",
    "    print(\"The longest words are:\",longest_words)\n"
   ]
  },
  {
   "cell_type": "code",
   "execution_count": 6,
   "metadata": {},
   "outputs": [
    {
     "name": "stdout",
     "output_type": "stream",
     "text": [
      "Enter a letter: b\n",
      "There are 6844 words that start with the letter b\n"
     ]
    }
   ],
   "source": [
    "#C. Print the number of words that start with a certain letter (use user input).\n",
    "\n",
    "letter = input(\"Enter a letter: \")\n",
    "\n",
    "countletter = 0\n",
    "for letterword in words:\n",
    "    if letterword.startswith(letter):\n",
    "        countletter += 1\n",
    "\n",
    "\n",
    "print(\"There are\", countletter, \"words that start with the letter\", letter)"
   ]
  },
  {
   "cell_type": "code",
   "execution_count": 7,
   "metadata": {},
   "outputs": [
    {
     "name": "stdout",
     "output_type": "stream",
     "text": [
      "Enter a substring: hika\n",
      "Words that contain the substring hika:\n",
      "shikar\n",
      "shikaree\n",
      "shikarees\n",
      "shikari\n",
      "shikaris\n",
      "shikarred\n",
      "shikarring\n",
      "shikars\n"
     ]
    }
   ],
   "source": [
    "#D. Print all the words that contain a certain substring (use user input).\n",
    "\n",
    "substring = input(\"Enter a substring: \")\n",
    "\n",
    "matching_substringwords = []\n",
    "for subword in words:\n",
    "    if substring in subword:\n",
    "        matching_substringwords.append(subword)\n",
    "\n",
    "\n",
    "print(\"Words that contain the substring\", substring + \":\")\n",
    "for subword in matching_substringwords:\n",
    "    print(subword)"
   ]
  },
  {
   "cell_type": "code",
   "execution_count": 8,
   "metadata": {},
   "outputs": [
    {
     "name": "stdout",
     "output_type": "stream",
     "text": [
      "The Palindromes in the world list are the following : \n",
      "aa\n",
      "aba\n",
      "aga\n",
      "aha\n",
      "ala\n",
      "alula\n",
      "ama\n",
      "ana\n",
      "anna\n",
      "ava\n",
      "awa\n",
      "bib\n",
      "bob\n",
      "boob\n",
      "bub\n",
      "civic\n",
      "dad\n",
      "deed\n",
      "deified\n",
      "deked\n",
      "deled\n",
      "denned\n",
      "dewed\n",
      "did\n",
      "dud\n",
      "eke\n",
      "eme\n",
      "ere\n",
      "eve\n",
      "ewe\n",
      "eye\n",
      "gag\n",
      "gig\n",
      "hah\n",
      "halalah\n",
      "hallah\n",
      "huh\n",
      "kaiak\n",
      "kayak\n",
      "keek\n",
      "kook\n",
      "level\n",
      "madam\n",
      "marram\n",
      "mem\n",
      "mim\n",
      "minim\n",
      "mom\n",
      "mum\n",
      "noon\n",
      "nun\n",
      "oho\n",
      "otto\n",
      "pap\n",
      "peep\n",
      "pep\n",
      "pip\n",
      "poop\n",
      "pop\n",
      "pup\n",
      "radar\n",
      "redder\n",
      "refer\n",
      "reifier\n",
      "repaper\n",
      "reviver\n",
      "rotator\n",
      "rotor\n",
      "sagas\n",
      "sees\n",
      "selles\n",
      "sememes\n",
      "semes\n",
      "seres\n",
      "sexes\n",
      "shahs\n",
      "sis\n",
      "solos\n",
      "sos\n",
      "stets\n",
      "tat\n",
      "tenet\n",
      "terret\n",
      "tit\n",
      "toot\n",
      "tot\n",
      "tut\n",
      "vav\n",
      "waw\n",
      "wow\n",
      "yay\n"
     ]
    }
   ],
   "source": [
    "#E. Print all the words that are palindromes (i.e., read the same backwards and forwards).\n",
    "\n",
    "palindromes = []\n",
    "for word in words:\n",
    "    if word == word[::-1]:\n",
    "        palindromes.append(word)\n",
    "\n",
    "\n",
    "print(\"The Palindromes in the world list are the following : \")\n",
    "for palindrome in palindromes:\n",
    "    print(palindrome)"
   ]
  },
  {
   "cell_type": "code",
   "execution_count": 10,
   "metadata": {},
   "outputs": [
    {
     "name": "stdout",
     "output_type": "stream",
     "text": [
      "Numer of letter a : 68574\n",
      "Numer of letter b : 17794\n",
      "Numer of letter c : 34281\n",
      "Numer of letter d : 34548\n",
      "Numer of letter e : 106752\n",
      "Numer of letter f : 12706\n",
      "Numer of letter g : 27832\n",
      "Numer of letter h : 20186\n",
      "Numer of letter i : 77392\n",
      "Numer of letter j : 1780\n",
      "Numer of letter k : 9366\n",
      "Numer of letter l : 47003\n",
      "Numer of letter m : 24739\n",
      "Numer of letter n : 60505\n",
      "Numer of letter o : 54538\n",
      "Numer of letter p : 25789\n",
      "Numer of letter q : 1632\n",
      "Numer of letter r : 64963\n",
      "Numer of letter s : 86526\n",
      "Numer of letter t : 57029\n",
      "Numer of letter u : 31151\n",
      "Numer of letter v : 9186\n",
      "Numer of letter w : 8533\n",
      "Numer of letter x : 2700\n",
      "Numer of letter y : 13473\n",
      "Numer of letter z : 3750\n"
     ]
    },
    {
     "data": {
      "text/plain": [
       "'\\nletter = input(\"Enter a letter: \").lower()\\n\\nletter_count = 0\\nfor word in words:\\n    letter_count += word.lower().count(letter)\\n\\nprint(\"The letter \\'\" + letter + \"\\' appears \\'\" + str(letter_count) + \" times in the list of words.\")\\n'"
      ]
     },
     "execution_count": 10,
     "metadata": {},
     "output_type": "execute_result"
    }
   ],
   "source": [
    "#F. Count the frequency of each letter.\n",
    "\n",
    "LetterList = [chr(chNum) for chNum in list(range(ord('a'),ord('z')+1))]\n",
    "\n",
    "for numcount in LetterList:\n",
    "    lettercount = 0\n",
    "    for letter in words:\n",
    "        lettercount += letter.lower().count(numcount)\n",
    "    print(\"Numer of letter \"+str(numcount)+\" : \" + str(lettercount))\n",
    "\n",
    "\n",
    "# Code for user input below:    \n",
    "\"\"\"\n",
    "letter = input(\"Enter a letter: \").lower()\n",
    "\n",
    "letter_count = 0\n",
    "for word in words:\n",
    "    letter_count += word.lower().count(letter)\n",
    "\n",
    "print(\"The letter '\" + letter + \"' appears '\" + str(letter_count) + \" times in the list of words.\")\n",
    "\"\"\""
   ]
  }
 ],
 "metadata": {
  "kernelspec": {
   "display_name": "Python 3",
   "language": "python",
   "name": "python3"
  },
  "language_info": {
   "codemirror_mode": {
    "name": "ipython",
    "version": 3
   },
   "file_extension": ".py",
   "mimetype": "text/x-python",
   "name": "python",
   "nbconvert_exporter": "python",
   "pygments_lexer": "ipython3",
   "version": "3.7.0"
  }
 },
 "nbformat": 4,
 "nbformat_minor": 2
}
