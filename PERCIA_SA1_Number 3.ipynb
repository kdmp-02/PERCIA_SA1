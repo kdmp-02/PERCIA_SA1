{
 "cells": [
  {
   "cell_type": "markdown",
   "metadata": {},
   "source": [
    "# Summative Assessment 1"
   ]
  },
  {
   "cell_type": "markdown",
   "metadata": {},
   "source": [
    "Number 3"
   ]
  },
  {
   "cell_type": "code",
   "execution_count": 25,
   "metadata": {},
   "outputs": [
    {
     "name": "stdout",
     "output_type": "stream",
     "text": [
      "x = 2.000\n",
      "x = 2.154\n",
      "x = 2.097\n",
      "x = 2.119\n",
      "x = 2.111\n",
      "x = 2.114\n",
      "x = 2.113\n",
      "x = 2.113\n",
      "\n",
      "As the value already repeated in three decimal places, the solution is 2.113\n"
     ]
    }
   ],
   "source": [
    "#3.) Write a program to find the solution to the equation x^3 + 5x = 20 using iterative formula.\n",
    "\n",
    "import math as m\n",
    "\n",
    "x = 2  \n",
    "previous_x = 0  \n",
    "\n",
    "while abs(x - previous_x) > 0.001:  \n",
    "    print(f\"x = {x:.3f}\")  \n",
    "    previous_x = x\n",
    "    x = m.pow(20 - 5 * x, 1/3)  \n",
    "    \n",
    "print(f\"x = {x:.3f}\")  \n",
    "x = m.pow(20 - 5 * x, 1/3)  \n",
    "if abs(x - previous_x) > 0.001:  \n",
    "    print(f\"x = {x:.3f}\") \n",
    "\n",
    "print(f\"\\nAs the value already repeated in three decimal places, the solution is {x:.3f}\")  \n"
   ]
  }
 ],
 "metadata": {
  "kernelspec": {
   "display_name": "Python 3",
   "language": "python",
   "name": "python3"
  },
  "language_info": {
   "codemirror_mode": {
    "name": "ipython",
    "version": 3
   },
   "file_extension": ".py",
   "mimetype": "text/x-python",
   "name": "python",
   "nbconvert_exporter": "python",
   "pygments_lexer": "ipython3",
   "version": "3.7.0"
  }
 },
 "nbformat": 4,
 "nbformat_minor": 2
}
