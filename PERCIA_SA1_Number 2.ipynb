{
 "cells": [
  {
   "cell_type": "markdown",
   "metadata": {},
   "source": [
    "# Summative Assessment 1"
   ]
  },
  {
   "cell_type": "markdown",
   "metadata": {},
   "source": [
    "Number 2"
   ]
  },
  {
   "cell_type": "code",
   "execution_count": 5,
   "metadata": {},
   "outputs": [
    {
     "name": "stdout",
     "output_type": "stream",
     "text": [
      "Enter a number of sequence in the Fibonacci : 20\n",
      "\n",
      "Fibonacci Sequence Iteratively : \n",
      "[0, 1, 1, 2, 3, 5, 8, 13, 21, 34, 55, 89, 144, 233, 377, 610, 987, 1597, 2584, 4181]\n",
      "Time Taken : 0.0\n",
      "\n",
      "Fibonacci Sequence Recursively : \n",
      "[0, 1, 1, 2, 3, 5, 8, 13, 21, 34, 55, 89, 144, 233, 377, 610, 987, 1597, 2584, 4181]\n",
      "Time Taken : 0.0191195011138916\n"
     ]
    },
    {
     "data": {
      "text/plain": [
       "'\\nFrom the time record, Recursive solution is not as efficient as the iterative solution, especially when n has a larger values,\\ndue to many repeated function calls.\\n'"
      ]
     },
     "execution_count": 5,
     "metadata": {},
     "output_type": "execute_result"
    }
   ],
   "source": [
    "#2.) Write a program on the Fibonacci sequence using both iterations and recursion, and including rendering time to compare \n",
    "# the performance of both approaches.\n",
    "\n",
    "import time\n",
    "\n",
    "#Iterative Solution\n",
    "def fibonacci_iterative(n):\n",
    "    sequence1 = [0, 1]\n",
    "    for i in range(2, n+1):\n",
    "        sequence1.append(sequence1[i-1] + sequence1[i-2])\n",
    "    return sequence1[:n]\n",
    "\n",
    "#Recursive Solution\n",
    "def fibonacci(n):\n",
    "    \"\"\"Return the n-th Fibonacci number using recursion.\"\"\"\n",
    "    if n < 2:\n",
    "        return n\n",
    "    else:\n",
    "        return fibonacci(n-1) + fibonacci(n-2)    \n",
    "\n",
    "n = int(input(\"Enter a number of sequence in the Fibonacci : \"))    \n",
    "\n",
    "print(\"\\nFibonacci Sequence Iteratively : \")\n",
    "istart = time.time()\n",
    "print(fibonacci_iterative(n))\n",
    "iend = time.time()\n",
    "itime = float(iend - istart)\n",
    "print (\"Time Taken : \"+ str(itime))\n",
    "\n",
    "\n",
    "print(\"\\nFibonacci Sequence Recursively : \")\n",
    "rstart = time.time()\n",
    "sequence2 = []\n",
    "for i in range(n):\n",
    "    sequence2.append(fibonacci(i)) \n",
    "print(sequence2)\n",
    "rend = time.time()\n",
    "rtime = float(rend - rstart)\n",
    "print(\"Time Taken : \"+ str(rtime))\n",
    "\n",
    "\n",
    "\"\"\"\n",
    "From the time record, Recursive solution is not as efficient as the iterative solution, especially when n has a larger values,\n",
    "due to many repeated function calls.\n",
    "\"\"\""
   ]
  }
 ],
 "metadata": {
  "kernelspec": {
   "display_name": "Python 3",
   "language": "python",
   "name": "python3"
  },
  "language_info": {
   "codemirror_mode": {
    "name": "ipython",
    "version": 3
   },
   "file_extension": ".py",
   "mimetype": "text/x-python",
   "name": "python",
   "nbconvert_exporter": "python",
   "pygments_lexer": "ipython3",
   "version": "3.7.0"
  }
 },
 "nbformat": 4,
 "nbformat_minor": 2
}
